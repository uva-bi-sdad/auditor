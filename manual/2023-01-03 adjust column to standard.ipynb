{
 "cells": [
  {
   "cell_type": "code",
   "execution_count": 14,
   "id": "7a3295a4",
   "metadata": {},
   "outputs": [],
   "source": [
    "import pandas as pd\n",
    "import os\n",
    "import seaborn as sns\n",
    "import matplotlib.pyplot as plt\n",
    "from pathlib import Path\n",
    "import json\n",
    "import requests\n",
    "import logging\n",
    "import traceback"
   ]
  },
  {
   "cell_type": "code",
   "execution_count": 3,
   "id": "b154b6a5",
   "metadata": {},
   "outputs": [
    {
     "name": "stdout",
     "output_type": "stream",
     "text": [
      "True\n"
     ]
    }
   ],
   "source": [
    "root_dir = '../../sdc.broadband_dev'\n",
    "print(os.path.isdir(root_dir))"
   ]
  },
  {
   "cell_type": "code",
   "execution_count": 4,
   "id": "8f8d7e32",
   "metadata": {
    "scrolled": false
   },
   "outputs": [
    {
     "name": "stdout",
     "output_type": "stream",
     "text": [
      "13\n"
     ]
    }
   ],
   "source": [
    "paths = [path for path in Path(root_dir).rglob(\"distribution/**/*.csv.xz\")]\n",
    "print(len(paths))"
   ]
  },
  {
   "cell_type": "code",
   "execution_count": 5,
   "id": "920d4500",
   "metadata": {},
   "outputs": [],
   "source": [
    "tdf = pd.read_csv(paths[0], low_memory=False)"
   ]
  },
  {
   "cell_type": "code",
   "execution_count": 6,
   "id": "c925656a",
   "metadata": {
    "scrolled": false
   },
   "outputs": [
    {
     "data": {
      "text/html": [
       "<div>\n",
       "<style scoped>\n",
       "    .dataframe tbody tr th:only-of-type {\n",
       "        vertical-align: middle;\n",
       "    }\n",
       "\n",
       "    .dataframe tbody tr th {\n",
       "        vertical-align: top;\n",
       "    }\n",
       "\n",
       "    .dataframe thead th {\n",
       "        text-align: right;\n",
       "    }\n",
       "</style>\n",
       "<table border=\"1\" class=\"dataframe\">\n",
       "  <thead>\n",
       "    <tr style=\"text-align: right;\">\n",
       "      <th></th>\n",
       "      <th>geoid</th>\n",
       "      <th>region_type</th>\n",
       "      <th>region_name</th>\n",
       "      <th>year</th>\n",
       "      <th>measure</th>\n",
       "      <th>value</th>\n",
       "      <th>measure_type</th>\n",
       "      <th>measure_units</th>\n",
       "    </tr>\n",
       "  </thead>\n",
       "  <tbody>\n",
       "    <tr>\n",
       "      <th>0</th>\n",
       "      <td>516500115004</td>\n",
       "      <td>block group</td>\n",
       "      <td>Block Group 4, Census Tract 115, Hampton city,...</td>\n",
       "      <td>2021</td>\n",
       "      <td>perc_income_avg_nat_package</td>\n",
       "      <td>0.723532</td>\n",
       "      <td>percent</td>\n",
       "      <td>NaN</td>\n",
       "    </tr>\n",
       "    <tr>\n",
       "      <th>1</th>\n",
       "      <td>517100043003</td>\n",
       "      <td>block group</td>\n",
       "      <td>Block Group 3, Census Tract 43, Norfolk city, ...</td>\n",
       "      <td>2021</td>\n",
       "      <td>perc_income_avg_nat_package</td>\n",
       "      <td>8.805320</td>\n",
       "      <td>percent</td>\n",
       "      <td>NaN</td>\n",
       "    </tr>\n",
       "    <tr>\n",
       "      <th>2</th>\n",
       "      <td>511990510002</td>\n",
       "      <td>block group</td>\n",
       "      <td>Block Group 2, Census Tract 510, York County, ...</td>\n",
       "      <td>2021</td>\n",
       "      <td>perc_income_avg_nat_package</td>\n",
       "      <td>1.209449</td>\n",
       "      <td>percent</td>\n",
       "      <td>NaN</td>\n",
       "    </tr>\n",
       "    <tr>\n",
       "      <th>3</th>\n",
       "      <td>510594327021</td>\n",
       "      <td>block group</td>\n",
       "      <td>Block Group 1, Census Tract 4327.02, Fairfax C...</td>\n",
       "      <td>2021</td>\n",
       "      <td>perc_income_avg_nat_package</td>\n",
       "      <td>0.713496</td>\n",
       "      <td>percent</td>\n",
       "      <td>NaN</td>\n",
       "    </tr>\n",
       "    <tr>\n",
       "      <th>4</th>\n",
       "      <td>515102003032</td>\n",
       "      <td>block group</td>\n",
       "      <td>Block Group 2, Census Tract 2003.03, Alexandri...</td>\n",
       "      <td>2021</td>\n",
       "      <td>perc_income_avg_nat_package</td>\n",
       "      <td>5.553949</td>\n",
       "      <td>percent</td>\n",
       "      <td>NaN</td>\n",
       "    </tr>\n",
       "    <tr>\n",
       "      <th>...</th>\n",
       "      <td>...</td>\n",
       "      <td>...</td>\n",
       "      <td>...</td>\n",
       "      <td>...</td>\n",
       "      <td>...</td>\n",
       "      <td>...</td>\n",
       "      <td>...</td>\n",
       "      <td>...</td>\n",
       "    </tr>\n",
       "    <tr>\n",
       "      <th>13353</th>\n",
       "      <td>24025</td>\n",
       "      <td>county</td>\n",
       "      <td>Harford County, Maryland</td>\n",
       "      <td>2021</td>\n",
       "      <td>perc_income_avg_nat_package</td>\n",
       "      <td>0.861498</td>\n",
       "      <td>percent</td>\n",
       "      <td>NaN</td>\n",
       "    </tr>\n",
       "    <tr>\n",
       "      <th>13354</th>\n",
       "      <td>24011</td>\n",
       "      <td>county</td>\n",
       "      <td>Caroline County, Maryland</td>\n",
       "      <td>2021</td>\n",
       "      <td>perc_income_avg_nat_package</td>\n",
       "      <td>1.309731</td>\n",
       "      <td>percent</td>\n",
       "      <td>NaN</td>\n",
       "    </tr>\n",
       "    <tr>\n",
       "      <th>13355</th>\n",
       "      <td>24015</td>\n",
       "      <td>county</td>\n",
       "      <td>Cecil County, Maryland</td>\n",
       "      <td>2021</td>\n",
       "      <td>perc_income_avg_nat_package</td>\n",
       "      <td>0.998868</td>\n",
       "      <td>percent</td>\n",
       "      <td>NaN</td>\n",
       "    </tr>\n",
       "    <tr>\n",
       "      <th>13356</th>\n",
       "      <td>24009</td>\n",
       "      <td>county</td>\n",
       "      <td>Calvert County, Maryland</td>\n",
       "      <td>2021</td>\n",
       "      <td>perc_income_avg_nat_package</td>\n",
       "      <td>0.702570</td>\n",
       "      <td>percent</td>\n",
       "      <td>NaN</td>\n",
       "    </tr>\n",
       "    <tr>\n",
       "      <th>13357</th>\n",
       "      <td>24510</td>\n",
       "      <td>county</td>\n",
       "      <td>Baltimore city, Maryland</td>\n",
       "      <td>2021</td>\n",
       "      <td>perc_income_avg_nat_package</td>\n",
       "      <td>1.524445</td>\n",
       "      <td>percent</td>\n",
       "      <td>NaN</td>\n",
       "    </tr>\n",
       "  </tbody>\n",
       "</table>\n",
       "<p>13358 rows × 8 columns</p>\n",
       "</div>"
      ],
      "text/plain": [
       "              geoid  region_type  \\\n",
       "0      516500115004  block group   \n",
       "1      517100043003  block group   \n",
       "2      511990510002  block group   \n",
       "3      510594327021  block group   \n",
       "4      515102003032  block group   \n",
       "...             ...          ...   \n",
       "13353         24025       county   \n",
       "13354         24011       county   \n",
       "13355         24015       county   \n",
       "13356         24009       county   \n",
       "13357         24510       county   \n",
       "\n",
       "                                             region_name  year  \\\n",
       "0      Block Group 4, Census Tract 115, Hampton city,...  2021   \n",
       "1      Block Group 3, Census Tract 43, Norfolk city, ...  2021   \n",
       "2      Block Group 2, Census Tract 510, York County, ...  2021   \n",
       "3      Block Group 1, Census Tract 4327.02, Fairfax C...  2021   \n",
       "4      Block Group 2, Census Tract 2003.03, Alexandri...  2021   \n",
       "...                                                  ...   ...   \n",
       "13353                           Harford County, Maryland  2021   \n",
       "13354                          Caroline County, Maryland  2021   \n",
       "13355                             Cecil County, Maryland  2021   \n",
       "13356                           Calvert County, Maryland  2021   \n",
       "13357                           Baltimore city, Maryland  2021   \n",
       "\n",
       "                           measure     value measure_type  measure_units  \n",
       "0      perc_income_avg_nat_package  0.723532      percent            NaN  \n",
       "1      perc_income_avg_nat_package  8.805320      percent            NaN  \n",
       "2      perc_income_avg_nat_package  1.209449      percent            NaN  \n",
       "3      perc_income_avg_nat_package  0.713496      percent            NaN  \n",
       "4      perc_income_avg_nat_package  5.553949      percent            NaN  \n",
       "...                            ...       ...          ...            ...  \n",
       "13353  perc_income_avg_nat_package  0.861498      percent            NaN  \n",
       "13354  perc_income_avg_nat_package  1.309731      percent            NaN  \n",
       "13355  perc_income_avg_nat_package  0.998868      percent            NaN  \n",
       "13356  perc_income_avg_nat_package  0.702570      percent            NaN  \n",
       "13357  perc_income_avg_nat_package  1.524445      percent            NaN  \n",
       "\n",
       "[13358 rows x 8 columns]"
      ]
     },
     "execution_count": 6,
     "metadata": {},
     "output_type": "execute_result"
    }
   ],
   "source": [
    "tdf"
   ]
  },
  {
   "cell_type": "code",
   "execution_count": 11,
   "id": "800c33d3",
   "metadata": {
    "scrolled": true
   },
   "outputs": [
    {
     "name": "stdout",
     "output_type": "stream",
     "text": [
      "['measure', 'measure_type', 'region_name', 'region_type', 'value', 'year', 'moe']\n"
     ]
    }
   ],
   "source": [
    "cols = requests.get(\"https://raw.githubusercontent.com/uva-bi-sdad/data_repo_structure/main/col_names.json\").json()\n",
    "print(cols)"
   ]
  },
  {
   "cell_type": "markdown",
   "id": "e4d2e08c",
   "metadata": {},
   "source": [
    "# Add empty columns"
   ]
  },
  {
   "cell_type": "code",
   "execution_count": 19,
   "id": "e5198ec5",
   "metadata": {},
   "outputs": [],
   "source": [
    "def fix_cols(req_cols, dirpath):\n",
    "    report = \"\"\n",
    "\n",
    "    for dir in os.listdir(dirpath):\n",
    "        subdir = os.path.join(dirpath, dir)\n",
    "        if not os.path.isdir(subdir):\n",
    "            continue\n",
    "        report += \"<h3> %s </h3>\\n\" % (dir)\n",
    "        for path in Path(subdir).rglob(\"distribution/**/*\"):\n",
    "            logging.debug(\"\\tEvaluating: %s\" % path.name)\n",
    "\n",
    "            if not os.path.isfile(path):\n",
    "                # if path is not a file, skip to the next file to check\n",
    "                continue\n",
    "\n",
    "            parent_dir = path.parent\n",
    "\n",
    "            if path.suffix in [\".xz\", \".csv\"]:\n",
    "                full_path = path.name\n",
    "                try:\n",
    "                    df = pd.read_csv(path.resolve())\n",
    "                    cols = set(df.columns)\n",
    "                    is_valid = len(req_cols - cols) == 0\n",
    "\n",
    "                    if is_valid:\n",
    "                        report += \"\\t<p>[VALID] %s</p>\\n\" % (full_path)\n",
    "                    elif len(cols.intersection(req_cols)) > 1:\n",
    "                        report += \"\\t<p>[MISSING %s] Needs: %s, Has: %s, %s </p>\\n\" % (\n",
    "                            len(req_cols - cols),\n",
    "                            req_cols - cols,\n",
    "                            cols,\n",
    "                            full_path,\n",
    "                        )\n",
    "                        \n",
    "                        # add all the missing columns\n",
    "                        for missing in (req_cols - cols):\n",
    "                            df[missing] = None\n",
    "                            df.to_csv(path.resolve())\n",
    "                            report += 'Column [%s] added' % missing\n",
    "                    else:\n",
    "                        report += \"\\t<p>[NO OVERLAP] %s</p>\\n\" % (full_path)\n",
    "                except:\n",
    "                    print(traceback.format_exc())\n",
    "                    report += \"\\t<p>[ERROR] %s</p>\\n\" % (full_path)\n",
    "    return report"
   ]
  },
  {
   "cell_type": "code",
   "execution_count": 20,
   "id": "46492830",
   "metadata": {},
   "outputs": [
    {
     "name": "stdout",
     "output_type": "stream",
     "text": [
      "<h3> legacy </h3>\n",
      "<h3> Wireless </h3>\n",
      "<h3> .venv </h3>\n",
      "<h3> .github </h3>\n",
      "<h3> Satellite </h3>\n",
      "<h3> Wired </h3>\n",
      "\t<p>[VALID] ncr_broadbandnow_acs_sdad_2021_perc_income_on_internet.csv.xz</p>\n",
      "\t<p>[VALID] ncr_broadbandnow_acs_sdad_2021_perc_income_on_internet.csv.xz</p>\n",
      "\t<p>[VALID] ncr_broadbandnow_acs_sdad_2021_perc_income_on_internet.csv.xz</p>\n",
      "\t<p>[VALID] ncr_hdcttrbg_2017_2019_broadband_withoutint_compdev.csv.xz</p>\n",
      "\t<p>[VALID] ncr_hdcttrbg_2017_2019_broadband_withoutint_compdev.csv.xz</p>\n",
      "\t<p>[VALID] ncr_hdcttrbg_2017_2019_broadband_withoutint_compdev.csv.xz</p>\n",
      "\t<p>[VALID] ncr_hdcttrbg_2017_2019_broadband_withoutint_compdev.csv.xz</p>\n",
      "\t<p>[VALID] ncr_hdcttrbg_2019_2021q3_percent_above_threshold.csv.xz</p>\n",
      "\t<p>[VALID] ncr_hdcttrbg_2019_2021q3_speed_measurements.csv.xz</p>\n",
      "\t<p>[VALID] ncr_hdcttrbg_2019_2021q3_percent_above_threshold.csv.xz</p>\n",
      "\t<p>[VALID] ncr_hdcttrbg_2019_2021q3_percent_above_threshold.csv.xz</p>\n",
      "\t<p>[VALID] ncr_hdcttrbg_2019_2021q3_percent_above_threshold.csv.xz</p>\n",
      "\t<p>[VALID] ncr_hdcttrbg_2019_2021q3_speed_measurements.csv.xz</p>\n",
      "<h3> .git </h3>\n",
      "\n"
     ]
    }
   ],
   "source": [
    "report = fix_cols(set(cols), root_dir)\n",
    "print(report)"
   ]
  }
 ],
 "metadata": {
  "kernelspec": {
   "display_name": "Python 3 (ipykernel)",
   "language": "python",
   "name": "python3"
  },
  "language_info": {
   "codemirror_mode": {
    "name": "ipython",
    "version": 3
   },
   "file_extension": ".py",
   "mimetype": "text/x-python",
   "name": "python",
   "nbconvert_exporter": "python",
   "pygments_lexer": "ipython3",
   "version": "3.10.7"
  }
 },
 "nbformat": 4,
 "nbformat_minor": 5
}
